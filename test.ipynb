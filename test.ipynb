{
 "cells": [
  {
   "cell_type": "code",
   "execution_count": 1,
   "metadata": {},
   "outputs": [
    {
     "name": "stdout",
     "output_type": "stream",
     "text": [
      "새로운 학생의 정보를 완성했습니다: \n",
      "{'이름': '한넙죽', '학교': '한국중학교', '학년': 1, '연락처': '01012342345', '수업': ['Python', 'C']}\n",
      "\n",
      "새로운 학생의 정보를 완성했습니다: \n",
      "{'이름': '김거위,', '학교': '오리초등학교', '학년': 5, '연락처': '01023334444', '수업': ['Python']}\n",
      "\n",
      "새로운 학생의 정보를 완성했습니다: \n",
      "{'이름': '로라', '학교': '한국중학교', '학년': 2, '연락처': '01022354242', '수업': ['C++', 'Java']}\n",
      "\n",
      "새로운 학생의 정보를 완성했습니다: \n",
      "{'이름': '리사', '학교': '한국초등학교', '학년': 6, '연락처': '01022223333', '수업': ['C', 'C++']}\n",
      "\n",
      "새로운 학생의 정보를 완성했습니다: \n",
      "{'이름': '이철수', '학교': '대한초등학교', '학년': 5, '연락처': '01022448888', '수업': ['C', 'Python']}\n",
      "\n",
      "새로운 학생의 정보를 완성했습니다: \n",
      "{'이름': '남영희', '학교': '대한중학교', '학년': 1, '연락처': '01023223333', '수업': ['Python', 'Java']}\n",
      "\n",
      "======== cut =========\n",
      "\n",
      "ERROR: 학년이 7보다 작은 자연수가 아닙니다.\n",
      "ERROR: 학교 이름이 학교로 끝나지 않습니다.\n",
      "ERROR: 연락처가 11자리가 아닙니다.\n",
      "ERROR: 수업은 lessons 리스트에 포함된 수업이어야 합니다.\n",
      "ERROR: 학년이 7보다 작은 자연수가 아닙니다.\n",
      "ERROR: 학교 이름이 str 타입이 아닙니다.\n"
     ]
    }
   ],
   "source": [
    "def new_student(student_info):\n",
    "    student_data={}\n",
    "    #0. student_info 리스트 아래 5개 요소 길이 확인\n",
    "    if len(student_info)!= 5:\n",
    "        print(\"ERROR: studnet_info의 요소 수가 5가 아닙니다.\")\n",
    "        return {}\n",
    "    #1. 학생 이름\n",
    "    name=student_info[0]\n",
    "    if type(name)==str:\n",
    "        student_data['이름']=name\n",
    "    else:\n",
    "        print(\"ERROR: 이름이 str형이 아닙니다.\")\n",
    "        return {}\n",
    "    #2. 학교명\n",
    "    school=student_info[1]\n",
    "    if type(school)==str:\n",
    "        if \"학교\" in school:\n",
    "            student_data['학교']=school\n",
    "        else:\n",
    "            print(\"ERROR: 학교 이름이 학교로 끝나지 않습니다.\")\n",
    "            return {}\n",
    "    else:\n",
    "        print(\"ERROR: 학교 이름이 str 타입이 아닙니다.\")\n",
    "        return {}\n",
    "    #3. 학생 학년\n",
    "    grade=student_info[2]\n",
    "    if type(grade)==int and (0<=grade<7):\n",
    "        student_data['학년']=grade\n",
    "    else:\n",
    "        print(\"ERROR: 학년이 7보다 작은 자연수가 아닙니다.\")\n",
    "        return {}\n",
    "    #4. 학생 연락처\n",
    "    contact=student_info[3]\n",
    "    if type(contact)==str:\n",
    "        if len(contact)==11:\n",
    "            student_data['연락처']=contact\n",
    "        else:\n",
    "            print(\"ERROR: 연락처가 11자리가 아닙니다.\")\n",
    "            return {}\n",
    "    #5. 학생 수업\n",
    "    lesson=student_info[4]\n",
    "    lessons=[\"Python\", \"Java\", \"C\", \"C++\"]\n",
    "    if type(lesson)==list:\n",
    "        is_lesson=True\n",
    "        for i in lesson:\n",
    "            if i not in lessons:\n",
    "                is_lesson=False\n",
    "                break\n",
    "        if is_lesson==False:\n",
    "            print(\"ERROR: 수업은 lessons 리스트에 포함된 수업이어야 합니다.\")\n",
    "            return {}\n",
    "        else:\n",
    "            student_data[\"수업\"]=lesson\n",
    "    else:\n",
    "        print(\"ERROR: 수업은 리스트 자료형으로 입력해야 합니다.\")\n",
    "        return {}\n",
    "    print(\"새로운 학생의 정보를 완성했습니다: \\n{}\\n\".format(student_data))\n",
    "\n",
    "student_infos=[\n",
    "    ['한넙죽', '한국중학교', 1, '01012342345', ['Python', 'C']],\n",
    "    ['김거위,', '오리초등학교', 5, '01023334444', ['Python']],\n",
    "    ['로라', '한국중학교', 2, '01022354242', ['C++', 'Java']],\n",
    "    ['리사', '한국초등학교', 6, '01022223333', ['C', 'C++']],\n",
    "    ['이철수', '대한초등학교', 5, '01022448888', ['C', 'Python']],\n",
    "    ['남영희', '대한중학교', 1, '01023223333', ['Python', 'Java']]\n",
    "]\n",
    "\n",
    "student_infos_error=[\n",
    "    ['한넙죽', '한국중학교', -1, '01012342345', ['Python', 'C']],\n",
    "    ['김거위,', '오리초', 5, '01023334444', ['Python']],\n",
    "    ['로라', '한국중학교', 2, '1022354242', ['C++', 'Java']],\n",
    "    ['리사', '한국초등학교', 6, '01022223333', ['C', 'C++', 'English']],\n",
    "    ['이철수', '대한초등학교', '5', '01022448888', ['C', \"Python\"]],\n",
    "    ['남영희', 1, '대한중학교', '01023223333', ['Python', 'Java']]\n",
    "]\n",
    "\n",
    "for student_info in student_infos:\n",
    "    new_st=new_student(student_info)\n",
    "\n",
    "print(\"======== cut =========\")\n",
    "print()\n",
    "\n",
    "for student_info_error in student_infos_error:\n",
    "    new_student(student_info_error)\n",
    "    "
   ]
  },
  {
   "cell_type": "code",
   "execution_count": 5,
   "metadata": {},
   "outputs": [
    {
     "name": "stdout",
     "output_type": "stream",
     "text": [
      "[{'이름': '한넙죽', '학교': '한국중학교', '학년': 1, '연락처': '01012342345', '수업': ['Python', 'C']}, {'이름': '로라', '학교': '한국중학교', '학년': 2, '연락처': '01022354242', '수업': ['C++', 'Java']}]\n",
      "\n",
      "[]\n",
      "\n",
      "[{'이름': '로라', '학교': '한국중학교', '학년': 2, '연락처': '01022354242', '수업': ['C++', 'Java']}]\n"
     ]
    }
   ],
   "source": [
    "def get_student(student_list, key_value_list):\n",
    "    candidate=[]\n",
    "    for student in student_list:\n",
    "        match=True\n",
    "        for info in key_value_list:\n",
    "            if student[info[0]]!=info[1]:\n",
    "                match=False\n",
    "                break\n",
    "        if match:\n",
    "            candidate.append(student)\n",
    "    return candidate\n",
    "    \n",
    "student_database=[\n",
    "    {'이름': '한넙죽', '학교': '한국중학교', '학년': 1, '연락처': '01012342345', '수업': ['Python', 'C']},\n",
    "    {'이름': '김거위,', '학교': '오리초등학교', '학년': 5, '연락처': '01023334444', '수업': ['Python']},\n",
    "    {'이름': '로라', '학교': '한국중학교', '학년': 2, '연락처': '01022354242', '수업': ['C++', 'Java']},\n",
    "    {'이름': '리사', '학교': '한국초등학교', '학년': 6, '연락처': '01022223333', '수업': ['C', 'C++']},\n",
    "    {'이름': '이철수', '학교': '대한초등학교', '학년': 5, '연락처': '01022448888', '수업': ['C', 'Python']},\n",
    "    {'이름': '남영희', '학교': '대한중학교', '학년': 1, '연락처': '01023223333', '수업': ['Python', 'Java']}\n",
    "]\n",
    "\n",
    "print(get_student(student_database, [('학교','한국중학교')]))\n",
    "print()\n",
    "print(get_student(student_database, [('이름', '김로라'), ('학교','한국중학교')]))\n",
    "print()\n",
    "print(get_student(student_database, [('이름', '로라'), ('학교','한국중학교')]))"
   ]
  },
  {
   "cell_type": "code",
   "execution_count": 17,
   "metadata": {},
   "outputs": [
    {
     "name": "stdout",
     "output_type": "stream",
     "text": [
      "CANDIDATE STUDENTS: [{'이름': '로라', '학교': '한국중학교', '학년': 2, '연락처': '01022354242', '수업': ['C++', 'Java']}]\n",
      "EDITED STUDENTS: [{'이름': '로나', '학교': '한국중학교', '학년': 2, '연락처': '01022354242', '수업': ['C++', 'Java']}]\n",
      "CANDIDATE STUDENTS: [{'이름': '한넙죽', '학교': '한국중학교', '학년': 1, '연락처': '01012342345', '수업': ['Python', 'C']}, {'이름': '로나', '학교': '한국중학교', '학년': 2, '연락처': '01022354242', '수업': ['C++', 'Java']}]\n",
      "EDITED STUDENTS: [{'이름': '한넙죽', '학교': '한국국제중학교', '학년': 1, '연락처': '01012342345', '수업': ['Python', 'C']}, {'이름': '로나', '학교': '한국국제중학교', '학년': 2, '연락처': '01022354242', '수업': ['C++', 'Java']}]\n"
     ]
    }
   ],
   "source": [
    "#3\n",
    "\n",
    "def get_student(student_list, key_value_list):\n",
    "    candidate=[]\n",
    "    for student in student_list:\n",
    "        match=True\n",
    "        for info in key_value_list:\n",
    "            if student[info[0]]!=info[1]:\n",
    "                match=False\n",
    "                break\n",
    "        if match:\n",
    "            candidate.append(student)\n",
    "    return candidate\n",
    "\n",
    "def edit_student(student_db, key_value_list, edit_list):\n",
    "    candidate_students=get_student(student_db, key_value_list)\n",
    "    print(\"CANDIDATE STUDENTS:\", candidate_students)\n",
    "    for candidate in candidate_students:\n",
    "        for edit in edit_list:\n",
    "            candidate[edit[0]]=edit[1]\n",
    "    print(\"EDITED STUDENTS:\", candidate_students)\n",
    "\n",
    "student_database=[\n",
    "    {'이름': '한넙죽', '학교': '한국중학교', '학년': 1, '연락처': '01012342345', '수업': ['Python', 'C']},\n",
    "    {'이름': '김거위,', '학교': '오리초등학교', '학년': 5, '연락처': '01023334444', '수업': ['Python']},\n",
    "    {'이름': '로라', '학교': '한국중학교', '학년': 2, '연락처': '01022354242', '수업': ['C++', 'Java']},\n",
    "    {'이름': '리사', '학교': '한국초등학교', '학년': 6, '연락처': '01022223333', '수업': ['C', 'C++']},\n",
    "    {'이름': '이철수', '학교': '대한초등학교', '학년': 5, '연락처': '01022448888', '수업': ['C', 'Python']},\n",
    "    {'이름': '남영희', '학교': '대한중학교', '학년': 1, '연락처': '01023223333', '수업': ['Python', 'Java']}\n",
    "]\n",
    "\n",
    "edit_student(student_database, [('이름', '로라'), ('학교', '한국중학교')], [('이름', '로나')])\n",
    "edit_student(student_database, [('학교', '한국중학교')], [('학교', '한국국제중학교')])"
   ]
  },
  {
   "cell_type": "code",
   "execution_count": null,
   "metadata": {},
   "outputs": [],
   "source": []
  },
  {
   "cell_type": "code",
   "execution_count": null,
   "metadata": {},
   "outputs": [],
   "source": [
    "\n",
    "student_database=[\n",
    "    {'이름': '한넙죽', '학교': '한국중학교', '학년': 1, '연락처': '01012342345', '수업': ['Python', 'C']},\n",
    "    {'이름': '김거위,', '학교': '오리초등학교', '학년': 5, '연락처': '01023334444', '수업': ['Python']},\n",
    "    {'이름': '로라', '학교': '한국중학교', '학년': 2, '연락처': '01022354242', '수업': ['C++', 'Java']},\n",
    "    {'이름': '리사', '학교': '한국초등학교', '학년': 6, '연락처': '01022223333', '수업': ['C', 'C++']},\n",
    "    {'이름': '이철수', '학교': '대한초등학교', '학년': 5, '연락처': '01022448888', '수업': ['C', 'Python']},\n",
    "    {'이름': '남영희', '학교': '대한중학교', '학년': 1, '연락처': '01023223333', '수업': ['Python', 'Java']}\n",
    "]\n",
    "edit_student(student_database, [('이름', '로라'), ('학교', '한국중학교')], [('이름', '로나')])\n"
   ]
  },
  {
   "cell_type": "code",
   "execution_count": 40,
   "metadata": {},
   "outputs": [
    {
     "name": "stdout",
     "output_type": "stream",
     "text": [
      "[]\n"
     ]
    }
   ],
   "source": [
    "a=[\n",
    "    {'이름': '한넙죽', '학교': '한국중학교', '학년': 1, '연락처': '01012342345', '수업': ['Python', 'C']},\n",
    "    {'이름': '김거위,', '학교': '오리초등학교', '학년': 5, '연락처': '01023334444', '수업': ['Python']},\n",
    "    {'이름': '로라', '학교': '한국중학교', '학년': 2, '연락처': '01022354242', '수업': ['C++', 'Java']},\n",
    "    {'이름': '리사', '학교': '한국초등학교', '학년': 6, '연락처': '01022223333', '수업': ['C', 'C++']},\n",
    "    {'이름': '이철수', '학교': '대한초등학교', '학년': 5, '연락처': '01022448888', '수업': ['C', 'Python']},\n",
    "    {'이름': '남영희', '학교': '대한중학교', '학년': 1, '연락처': '01023223333', '수업': ['Python', 'Java']}\n",
    "]\n",
    "b=[('학교','한국중학교'), ('이름', '김로라')]\n",
    "c=[]\n",
    "for i in a:\n",
    "    for j in b:\n",
    "        if all(i[j[0]]==j[1] for j in b):\n",
    "            m=True\n",
    "        else:\n",
    "            m=False\n",
    "    if m==True:\n",
    "        c.append(i)\n",
    "print(c)\n",
    "\n",
    "for i in a:\n",
    "    if all(i[j[0]] == j[1] for j in b):\n",
    "        c.append(i)\n",
    "\n",
    "print(c)"
   ]
  },
  {
   "cell_type": "code",
   "execution_count": null,
   "metadata": {},
   "outputs": [],
   "source": [
    "        if i[j[0]]==j[1]:\n",
    "            m=True\n",
    "        else:\n",
    "            m=False\n",
    "    if m==True:\n",
    "        c.append(i)\n",
    "print(c)"
   ]
  },
  {
   "cell_type": "code",
   "execution_count": null,
   "metadata": {},
   "outputs": [],
   "source": []
  },
  {
   "cell_type": "code",
   "execution_count": null,
   "metadata": {},
   "outputs": [],
   "source": [
    "            m=False\n",
    "    if m==True:\n",
    "        c.append(i)\n",
    "print(c)"
   ]
  },
  {
   "cell_type": "code",
   "execution_count": 4,
   "metadata": {},
   "outputs": [
    {
     "name": "stdout",
     "output_type": "stream",
     "text": [
      "hi mom, hi dad\n",
      "None\n"
     ]
    }
   ],
   "source": [
    "def hello(a,b):\n",
    "    return (f\"hi {a}, hi {b}\")\n",
    "print(hello(\"mom\", \"dad\"))"
   ]
  },
  {
   "cell_type": "code",
   "execution_count": 31,
   "metadata": {},
   "outputs": [
    {
     "name": "stdout",
     "output_type": "stream",
     "text": [
      "{'이름': '한넙죽', '학교': '한국중학교', '학년': 1, '연락처': '01012342345', '수업': ['Python', 'C']} ('학교', '한국중학교')\n",
      "{'이름': '한넙죽', '학교': '한국중학교', '학년': 1, '연락처': '01012342345', '수업': ['Python', 'C']} ('이름', '김로라')\n",
      "{'이름': '김거위,', '학교': '오리초등학교', '학년': 5, '연락처': '01023334444', '수업': ['Python']} ('학교', '한국중학교')\n",
      "{'이름': '김거위,', '학교': '오리초등학교', '학년': 5, '연락처': '01023334444', '수업': ['Python']} ('이름', '김로라')\n",
      "{'이름': '로라', '학교': '한국중학교', '학년': 2, '연락처': '01022354242', '수업': ['C++', 'Java']} ('학교', '한국중학교')\n",
      "{'이름': '로라', '학교': '한국중학교', '학년': 2, '연락처': '01022354242', '수업': ['C++', 'Java']} ('이름', '김로라')\n",
      "{'이름': '리사', '학교': '한국초등학교', '학년': 6, '연락처': '01022223333', '수업': ['C', 'C++']} ('학교', '한국중학교')\n",
      "{'이름': '리사', '학교': '한국초등학교', '학년': 6, '연락처': '01022223333', '수업': ['C', 'C++']} ('이름', '김로라')\n",
      "{'이름': '이철수', '학교': '대한초등학교', '학년': 5, '연락처': '01022448888', '수업': ['C', 'Python']} ('학교', '한국중학교')\n",
      "{'이름': '이철수', '학교': '대한초등학교', '학년': 5, '연락처': '01022448888', '수업': ['C', 'Python']} ('이름', '김로라')\n",
      "{'이름': '남영희', '학교': '대한중학교', '학년': 1, '연락처': '01023223333', '수업': ['Python', 'Java']} ('학교', '한국중학교')\n",
      "{'이름': '남영희', '학교': '대한중학교', '학년': 1, '연락처': '01023223333', '수업': ['Python', 'Java']} ('이름', '김로라')\n"
     ]
    }
   ],
   "source": [
    "a=[\n",
    "    {'이름': '한넙죽', '학교': '한국중학교', '학년': 1, '연락처': '01012342345', '수업': ['Python', 'C']},\n",
    "    {'이름': '김거위,', '학교': '오리초등학교', '학년': 5, '연락처': '01023334444', '수업': ['Python']},\n",
    "    {'이름': '로라', '학교': '한국중학교', '학년': 2, '연락처': '01022354242', '수업': ['C++', 'Java']},\n",
    "    {'이름': '리사', '학교': '한국초등학교', '학년': 6, '연락처': '01022223333', '수업': ['C', 'C++']},\n",
    "    {'이름': '이철수', '학교': '대한초등학교', '학년': 5, '연락처': '01022448888', '수업': ['C', 'Python']},\n",
    "    {'이름': '남영희', '학교': '대한중학교', '학년': 1, '연락처': '01023223333', '수업': ['Python', 'Java']}\n",
    "]\n",
    "b=[('학교','한국중학교'), ('이름', '김로라')]\n",
    "c=[]\n",
    "for i in a:\n",
    "    for j in b:\n",
    "        print(i, j)"
   ]
  }
 ],
 "metadata": {
  "kernelspec": {
   "display_name": "Python 3",
   "language": "python",
   "name": "python3"
  },
  "language_info": {
   "codemirror_mode": {
    "name": "ipython",
    "version": 3
   },
   "file_extension": ".py",
   "mimetype": "text/x-python",
   "name": "python",
   "nbconvert_exporter": "python",
   "pygments_lexer": "ipython3",
   "version": "3.12.3"
  }
 },
 "nbformat": 4,
 "nbformat_minor": 2
}
